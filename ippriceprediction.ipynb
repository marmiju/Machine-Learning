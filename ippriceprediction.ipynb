{
 "cells": [
  {
   "cell_type": "markdown",
   "id": "261c6962",
   "metadata": {},
   "source": [
    "LinearRegrassion"
   ]
  },
  {
   "cell_type": "code",
   "execution_count": null,
   "id": "6b9a52cf",
   "metadata": {},
   "outputs": [],
   "source": [
    "#import pandas and gspread\n",
    "import pandas as pd\n"
   ]
  },
  {
   "cell_type": "markdown",
   "id": "a7e93269",
   "metadata": {},
   "source": [
    "import google sheet"
   ]
  },
  {
   "cell_type": "code",
   "execution_count": 10,
   "id": "190312ae",
   "metadata": {},
   "outputs": [
    {
     "data": {
      "text/plain": [
       "<gspread.client.Client at 0x292aa371f40>"
      ]
     },
     "execution_count": 10,
     "metadata": {},
     "output_type": "execute_result"
    }
   ],
   "source": [
    "import gspread\n",
    "sheet = gspread.service_account(filename = \"D:\\\\Programming\\\\Machine Learning\\\\gsheet-457807-cabb21280bbb.json\")\n",
    "sheet"
   ]
  },
  {
   "cell_type": "code",
   "execution_count": null,
   "id": "29d9fb54",
   "metadata": {},
   "outputs": [
    {
     "ename": "NameError",
     "evalue": "name 'sheet1' is not defined",
     "output_type": "error",
     "traceback": [
      "\u001b[31m---------------------------------------------------------------------------\u001b[39m",
      "\u001b[31mNameError\u001b[39m                                 Traceback (most recent call last)",
      "\u001b[36mCell\u001b[39m\u001b[36m \u001b[39m\u001b[32mIn[15]\u001b[39m\u001b[32m, line 1\u001b[39m\n\u001b[32m----> \u001b[39m\u001b[32m1\u001b[39m df = pd.DataFrame([sheet[\u001b[43msheet1\u001b[49m]])\n\u001b[32m      2\u001b[39m df\n",
      "\u001b[31mNameError\u001b[39m: name 'sheet1' is not defined"
     ]
    }
   ],
   "source": [
    "\n"
   ]
  }
 ],
 "metadata": {
  "kernelspec": {
   "display_name": "base",
   "language": "python",
   "name": "python3"
  },
  "language_info": {
   "codemirror_mode": {
    "name": "ipython",
    "version": 3
   },
   "file_extension": ".py",
   "mimetype": "text/x-python",
   "name": "python",
   "nbconvert_exporter": "python",
   "pygments_lexer": "ipython3",
   "version": "3.12.7"
  }
 },
 "nbformat": 4,
 "nbformat_minor": 5
}
